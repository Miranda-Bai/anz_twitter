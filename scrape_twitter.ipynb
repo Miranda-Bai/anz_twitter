{
 "cells": [
  {
   "cell_type": "code",
   "execution_count": 1,
   "metadata": {},
   "outputs": [],
   "source": [
    "import requests\n",
    "import pandas as pd\n",
    "import scraperAPI_key"
   ]
  },
  {
   "cell_type": "code",
   "execution_count": 2,
   "metadata": {},
   "outputs": [],
   "source": [
    "twitter_data = []"
   ]
  },
  {
   "cell_type": "code",
   "execution_count": 6,
   "metadata": {},
   "outputs": [],
   "source": [
    "payload = {\n",
    "    'api_key': scraperAPI_key.SCRAPERAPI_KEY, \n",
    "    'query': '#anz bank',\n",
    "    'num': '10'}\n",
    "response = requests.get(\n",
    "    'https://api.scraperapi.com/structured/twitter/search', params=payload\n",
    ")\n",
    "data = response.json()"
   ]
  },
  {
   "cell_type": "code",
   "execution_count": 7,
   "metadata": {},
   "outputs": [
    {
     "data": {
      "text/plain": [
       "{'search_information': {'query_displayed': 'site:twitter.com \"#anz bank\"',\n",
       "  'total_results': 2790,\n",
       "  'time_taken_displayed': 0.35},\n",
       " 'organic_results': [{'position': 0,\n",
       "   'title': 'ANZ Bank Unhappy customers (@ANZUnhappy) / X',\n",
       "   'snippet': \"ANZ Bank Unhappy customers. @ANZUnhappy. WANT JUSTICE? Bank Victim or Victorious? Voice your concerns regarding ANZ's banking practices and hear from like\\xa0...\",\n",
       "   'highlighs': ['ANZ Bank'],\n",
       "   'link': 'https://twitter.com/anzunhappy',\n",
       "   'displayed_link': 'https://twitter.com › anzunhappy'},\n",
       "  {'position': 1,\n",
       "   'title': 'Bloomberg',\n",
       "   'tags': 'Jul 12, 2023 —',\n",
       "   'snippet': \"Jul 12, 2023 — ANZ Bank's CEO said he's seen a “modest” increase in customers reaching out for help, just a sliver of a broader group of people and\\xa0...\",\n",
       "   'highlighs': [\"ANZ Bank's\"],\n",
       "   'link': 'https://mobile.twitter.com/business/status/1678947841065009153',\n",
       "   'displayed_link': 'https://mobile.twitter.com › business › status'},\n",
       "  {'position': 2,\n",
       "   'title': 'ANZ Bank faces $15m + fine for using introducers to sell ...',\n",
       "   'tags': 'Feb 2, 2023 —',\n",
       "   'snippet': \"Feb 2, 2023 — ANZ Bank faces $15m + fine for using introducers to sell home loans ... The ANZ Bank's policy of promoting unlicensed 'introducers' to sell\\xa0...\",\n",
       "   'highlighs': ['ANZ Bank', \"ANZ Bank's\"],\n",
       "   'link': 'https://twitter.com/ANZ_NZ/status/1621115058100252675',\n",
       "   'displayed_link': 'https://twitter.com › ANZ_NZ › status'},\n",
       "  {'position': 3,\n",
       "   'title': 'Bloomberg',\n",
       "   'tags': 'May 5, 2023 —',\n",
       "   'snippet': \"May 5, 2023 — ANZ Bank Sees Margin Pressure as Competition Intensifies. ANZ Group Holdings Ltd.'s first-half profit met analyst expectations as margin\\xa0...\",\n",
       "   'highlighs': ['ANZ Bank'],\n",
       "   'link': 'https://twitter.com/business/status/1654383445953347586',\n",
       "   'displayed_link': 'https://twitter.com › business › status'},\n",
       "  {'position': 4,\n",
       "   'title': 'Jim Chalmers MP',\n",
       "   'tags': 'Aug 3, 2023 —',\n",
       "   'snippet': 'Aug 3, 2023 — has decided not to approve the ANZ bank takeover of Suncorp bank.',\n",
       "   'highlighs': ['ANZ bank'],\n",
       "   'link': 'https://twitter.com/JEChalmers/status/1687248845032542208',\n",
       "   'displayed_link': 'https://twitter.com › JEChalmers › status'},\n",
       "  {'position': 5,\n",
       "   'title': 'ANZ employees will no longer handle cash banking',\n",
       "   'tags': 'Mar 30, 2023 —',\n",
       "   'snippet': 'Mar 30, 2023 — ANZ bank will stop employees from handling cash deposits from customers in a shake-up to the way branches operate. @SarahStewart_9.',\n",
       "   'highlighs': ['ANZ bank'],\n",
       "   'link': 'https://mobile.twitter.com/9NewsSyd/status/1641538580756537351',\n",
       "   'displayed_link': 'https://mobile.twitter.com › status'},\n",
       "  {'position': 6,\n",
       "   'title': 'BankTrack',\n",
       "   'tags': 'Nov 3, 2021 —',\n",
       "   'snippet': \"Nov 3, 2021 — Australia's ANZ Bank today launched a Grievance Mechanism Framework to evaluate and respond to human rights related complaints associated\\xa0...\",\n",
       "   'highlighs': ['ANZ Bank'],\n",
       "   'link': 'https://twitter.com/BankTrack/status/1455818431631081472',\n",
       "   'displayed_link': 'https://twitter.com › BankTrack › status'},\n",
       "  {'position': 7,\n",
       "   'title': \"ANZ bank apologises after customers' personal information ...\",\n",
       "   'tags': 'Mar 1, 2023 —',\n",
       "   'snippet': \"Mar 1, 2023 — ANZ bank apologises after customers' personal information found in Perth skip bin. People walk past ANZ atms.\",\n",
       "   'highlighs': ['ANZ bank'],\n",
       "   'link': 'https://twitter.com/abcnews/status/1630868549659967488',\n",
       "   'displayed_link': 'https://twitter.com › abcnews › status'},\n",
       "  {'position': 8,\n",
       "   'title': 'Jeff Clark on X: \"ANZ Bank',\n",
       "   'tags': 'Aug 14, 2023 —',\n",
       "   'snippet': 'Aug 14, 2023 — ANZ Bank: \"Silver: a disconnect between price and fundamentals. Some supply bottlenecks, plus mine supply is at risk due to floods in South\\xa0...',\n",
       "   'highlighs': ['ANZ Bank'],\n",
       "   'link': 'https://twitter.com/TheGoldAdvisor/status/1691110947119824896',\n",
       "   'displayed_link': 'https://twitter.com › TheGoldAdvisor › status'}],\n",
       " 'pagination': {'load_more_url': 'http://api.scraperapi.com/?url=https%3A%2F%2Fwww.google.com%2Fsearch%3Fq%3Dsite%3Atwitter.com%2B%2522%2523anz%2Bbank%2522%26sca_esv%3D562402857%26gl%3DUS%26ei%3D7CD1ZLiPIoKshbIP28mJgAY%26start%3D10%26sa%3DN&autoparse=true',\n",
       "  'pages_count': 1}}"
      ]
     },
     "execution_count": 7,
     "metadata": {},
     "output_type": "execute_result"
    }
   ],
   "source": [
    "data"
   ]
  },
  {
   "cell_type": "code",
   "execution_count": 9,
   "metadata": {},
   "outputs": [
    {
     "data": {
      "text/plain": [
       "dict_keys(['search_information', 'organic_results', 'pagination'])"
      ]
     },
     "execution_count": 9,
     "metadata": {},
     "output_type": "execute_result"
    }
   ],
   "source": [
    "data.keys()"
   ]
  },
  {
   "cell_type": "code",
   "execution_count": 10,
   "metadata": {},
   "outputs": [
    {
     "data": {
      "text/plain": [
       "{'query_displayed': 'site:twitter.com \"#anz bank\"',\n",
       " 'total_results': 2790,\n",
       " 'time_taken_displayed': 0.35}"
      ]
     },
     "execution_count": 10,
     "metadata": {},
     "output_type": "execute_result"
    }
   ],
   "source": [
    "data['search_information']"
   ]
  },
  {
   "cell_type": "code",
   "execution_count": 11,
   "metadata": {},
   "outputs": [
    {
     "data": {
      "text/plain": [
       "[{'position': 0,\n",
       "  'title': 'ANZ Bank Unhappy customers (@ANZUnhappy) / X',\n",
       "  'snippet': \"ANZ Bank Unhappy customers. @ANZUnhappy. WANT JUSTICE? Bank Victim or Victorious? Voice your concerns regarding ANZ's banking practices and hear from like\\xa0...\",\n",
       "  'highlighs': ['ANZ Bank'],\n",
       "  'link': 'https://twitter.com/anzunhappy',\n",
       "  'displayed_link': 'https://twitter.com › anzunhappy'},\n",
       " {'position': 1,\n",
       "  'title': 'Bloomberg',\n",
       "  'tags': 'Jul 12, 2023 —',\n",
       "  'snippet': \"Jul 12, 2023 — ANZ Bank's CEO said he's seen a “modest” increase in customers reaching out for help, just a sliver of a broader group of people and\\xa0...\",\n",
       "  'highlighs': [\"ANZ Bank's\"],\n",
       "  'link': 'https://mobile.twitter.com/business/status/1678947841065009153',\n",
       "  'displayed_link': 'https://mobile.twitter.com › business › status'},\n",
       " {'position': 2,\n",
       "  'title': 'ANZ Bank faces $15m + fine for using introducers to sell ...',\n",
       "  'tags': 'Feb 2, 2023 —',\n",
       "  'snippet': \"Feb 2, 2023 — ANZ Bank faces $15m + fine for using introducers to sell home loans ... The ANZ Bank's policy of promoting unlicensed 'introducers' to sell\\xa0...\",\n",
       "  'highlighs': ['ANZ Bank', \"ANZ Bank's\"],\n",
       "  'link': 'https://twitter.com/ANZ_NZ/status/1621115058100252675',\n",
       "  'displayed_link': 'https://twitter.com › ANZ_NZ › status'},\n",
       " {'position': 3,\n",
       "  'title': 'Bloomberg',\n",
       "  'tags': 'May 5, 2023 —',\n",
       "  'snippet': \"May 5, 2023 — ANZ Bank Sees Margin Pressure as Competition Intensifies. ANZ Group Holdings Ltd.'s first-half profit met analyst expectations as margin\\xa0...\",\n",
       "  'highlighs': ['ANZ Bank'],\n",
       "  'link': 'https://twitter.com/business/status/1654383445953347586',\n",
       "  'displayed_link': 'https://twitter.com › business › status'},\n",
       " {'position': 4,\n",
       "  'title': 'Jim Chalmers MP',\n",
       "  'tags': 'Aug 3, 2023 —',\n",
       "  'snippet': 'Aug 3, 2023 — has decided not to approve the ANZ bank takeover of Suncorp bank.',\n",
       "  'highlighs': ['ANZ bank'],\n",
       "  'link': 'https://twitter.com/JEChalmers/status/1687248845032542208',\n",
       "  'displayed_link': 'https://twitter.com › JEChalmers › status'},\n",
       " {'position': 5,\n",
       "  'title': 'ANZ employees will no longer handle cash banking',\n",
       "  'tags': 'Mar 30, 2023 —',\n",
       "  'snippet': 'Mar 30, 2023 — ANZ bank will stop employees from handling cash deposits from customers in a shake-up to the way branches operate. @SarahStewart_9.',\n",
       "  'highlighs': ['ANZ bank'],\n",
       "  'link': 'https://mobile.twitter.com/9NewsSyd/status/1641538580756537351',\n",
       "  'displayed_link': 'https://mobile.twitter.com › status'},\n",
       " {'position': 6,\n",
       "  'title': 'BankTrack',\n",
       "  'tags': 'Nov 3, 2021 —',\n",
       "  'snippet': \"Nov 3, 2021 — Australia's ANZ Bank today launched a Grievance Mechanism Framework to evaluate and respond to human rights related complaints associated\\xa0...\",\n",
       "  'highlighs': ['ANZ Bank'],\n",
       "  'link': 'https://twitter.com/BankTrack/status/1455818431631081472',\n",
       "  'displayed_link': 'https://twitter.com › BankTrack › status'},\n",
       " {'position': 7,\n",
       "  'title': \"ANZ bank apologises after customers' personal information ...\",\n",
       "  'tags': 'Mar 1, 2023 —',\n",
       "  'snippet': \"Mar 1, 2023 — ANZ bank apologises after customers' personal information found in Perth skip bin. People walk past ANZ atms.\",\n",
       "  'highlighs': ['ANZ bank'],\n",
       "  'link': 'https://twitter.com/abcnews/status/1630868549659967488',\n",
       "  'displayed_link': 'https://twitter.com › abcnews › status'},\n",
       " {'position': 8,\n",
       "  'title': 'Jeff Clark on X: \"ANZ Bank',\n",
       "  'tags': 'Aug 14, 2023 —',\n",
       "  'snippet': 'Aug 14, 2023 — ANZ Bank: \"Silver: a disconnect between price and fundamentals. Some supply bottlenecks, plus mine supply is at risk due to floods in South\\xa0...',\n",
       "  'highlighs': ['ANZ Bank'],\n",
       "  'link': 'https://twitter.com/TheGoldAdvisor/status/1691110947119824896',\n",
       "  'displayed_link': 'https://twitter.com › TheGoldAdvisor › status'}]"
      ]
     },
     "execution_count": 11,
     "metadata": {},
     "output_type": "execute_result"
    }
   ],
   "source": [
    "data['organic_results']"
   ]
  },
  {
   "cell_type": "code",
   "execution_count": 12,
   "metadata": {},
   "outputs": [
    {
     "data": {
      "text/plain": [
       "{'load_more_url': 'http://api.scraperapi.com/?url=https%3A%2F%2Fwww.google.com%2Fsearch%3Fq%3Dsite%3Atwitter.com%2B%2522%2523anz%2Bbank%2522%26sca_esv%3D562402857%26gl%3DUS%26ei%3D7CD1ZLiPIoKshbIP28mJgAY%26start%3D10%26sa%3DN&autoparse=true',\n",
       " 'pages_count': 1}"
      ]
     },
     "execution_count": 12,
     "metadata": {},
     "output_type": "execute_result"
    }
   ],
   "source": [
    "data['pagination']"
   ]
  },
  {
   "cell_type": "code",
   "execution_count": 13,
   "metadata": {},
   "outputs": [
    {
     "data": {
      "text/plain": [
       "9"
      ]
     },
     "execution_count": 13,
     "metadata": {},
     "output_type": "execute_result"
    }
   ],
   "source": [
    "org_c = len(data['organic_results'])\n",
    "org_c"
   ]
  },
  {
   "cell_type": "code",
   "execution_count": 14,
   "metadata": {},
   "outputs": [],
   "source": [
    "all_tweets = data['organic_results']\n",
    "for tweet in all_tweets:\n",
    "    twitter_data.append(tweet)"
   ]
  },
  {
   "cell_type": "code",
   "execution_count": 15,
   "metadata": {},
   "outputs": [
    {
     "data": {
      "text/plain": [
       "9"
      ]
     },
     "execution_count": 15,
     "metadata": {},
     "output_type": "execute_result"
    }
   ],
   "source": [
    "counts = len(twitter_data)\n",
    "counts"
   ]
  },
  {
   "cell_type": "code",
   "execution_count": 16,
   "metadata": {},
   "outputs": [],
   "source": [
    "df = pd.DataFrame(twitter_data)\n",
    "df.to_excel(\"./data/scraper_snippet.xlsx\")"
   ]
  }
 ],
 "metadata": {
  "kernelspec": {
   "display_name": "Python 3",
   "language": "python",
   "name": "python3"
  },
  "language_info": {
   "codemirror_mode": {
    "name": "ipython",
    "version": 3
   },
   "file_extension": ".py",
   "mimetype": "text/x-python",
   "name": "python",
   "nbconvert_exporter": "python",
   "pygments_lexer": "ipython3",
   "version": "3.11.2"
  },
  "orig_nbformat": 4
 },
 "nbformat": 4,
 "nbformat_minor": 2
}
