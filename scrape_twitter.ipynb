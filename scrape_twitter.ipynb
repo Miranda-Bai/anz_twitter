{
 "cells": [
  {
   "cell_type": "code",
   "execution_count": 1,
   "metadata": {},
   "outputs": [],
   "source": [
    "import requests\n",
    "import pandas as pd"
   ]
  },
  {
   "cell_type": "code",
   "execution_count": 2,
   "metadata": {},
   "outputs": [],
   "source": [
    "twitter_data = []"
   ]
  },
  {
   "cell_type": "code",
   "execution_count": 10,
   "metadata": {},
   "outputs": [],
   "source": [
    "payload = {\n",
    "    'api_key': 'Your API Key', \n",
    "    'query': 'anz bank',\n",
    "    'num': '10'}\n",
    "response = requests.get(\n",
    "    'https://api.scraperapi.com/structured/twitter/search', params=payload\n",
    ")\n",
    "data = response.json()"
   ]
  },
  {
   "cell_type": "code",
   "execution_count": 4,
   "metadata": {},
   "outputs": [
    {
     "data": {
      "text/plain": [
       "{'search_information': {'query_displayed': 'site:twitter.com \"anz bank\"',\n",
       "  'total_results': 819,\n",
       "  'time_taken_displayed': 0.32},\n",
       " 'organic_results': [{'position': 0,\n",
       "   'title': 'ANZ Bank Unhappy customers (@ANZUnhappy) / X',\n",
       "   'snippet': \"ANZ Bank Unhappy customers. @ANZUnhappy. WANT JUSTICE? Bank Victim or Victorious? Voice your concerns regarding ANZ's banking practices and hear from like\\xa0...\",\n",
       "   'highlighs': ['ANZ Bank'],\n",
       "   'link': 'https://twitter.com/anzunhappy',\n",
       "   'displayed_link': 'https://twitter.com › anzunhappy'},\n",
       "  {'position': 1,\n",
       "   'title': 'Bloomberg',\n",
       "   'tags': 'Jul 12, 2023 —',\n",
       "   'snippet': \"Jul 12, 2023 — ANZ Bank's CEO said he's seen a “modest” increase in customers reaching out for help, just a sliver of a broader group of people and\\xa0...\",\n",
       "   'highlighs': [\"ANZ Bank's\"],\n",
       "   'link': 'https://mobile.twitter.com/business/status/1678947841065009153',\n",
       "   'displayed_link': 'https://mobile.twitter.com › business › status'},\n",
       "  {'position': 2,\n",
       "   'title': 'ANZ Bank faces $15m + fine for using introducers to sell ...',\n",
       "   'tags': 'Feb 2, 2023 —',\n",
       "   'snippet': \"Feb 2, 2023 — ANZ Bank faces $15m + fine for using introducers to sell home loans ... The ANZ Bank's policy of promoting unlicensed 'introducers' to sell\\xa0...\",\n",
       "   'highlighs': ['ANZ Bank', \"ANZ Bank's\"],\n",
       "   'link': 'https://twitter.com/ANZ_NZ/status/1621115058100252675',\n",
       "   'displayed_link': 'https://twitter.com › ANZ_NZ › status'},\n",
       "  {'position': 3,\n",
       "   'title': 'Bloomberg',\n",
       "   'tags': 'May 5, 2023 —',\n",
       "   'snippet': \"May 5, 2023 — ANZ Bank Sees Margin Pressure as Competition Intensifies. ANZ Group Holdings Ltd.'s first-half profit met analyst expectations as margin\\xa0...\",\n",
       "   'highlighs': ['ANZ Bank'],\n",
       "   'link': 'https://twitter.com/business/status/1654383445953347586',\n",
       "   'displayed_link': 'https://twitter.com › business › status'},\n",
       "  {'position': 4,\n",
       "   'title': 'Jim Chalmers MP',\n",
       "   'tags': 'Aug 3, 2023 —',\n",
       "   'snippet': 'Aug 3, 2023 — has decided not to approve the ANZ bank takeover of Suncorp bank.',\n",
       "   'highlighs': ['ANZ bank'],\n",
       "   'link': 'https://twitter.com/JEChalmers/status/1687248845032542208',\n",
       "   'displayed_link': 'https://twitter.com › JEChalmers › status'},\n",
       "  {'position': 5,\n",
       "   'title': 'ANZ employees will no longer handle cash banking',\n",
       "   'tags': 'Mar 30, 2023 —',\n",
       "   'snippet': 'Mar 30, 2023 — ANZ bank will stop employees from handling cash deposits from customers in a shake-up to the way branches operate. @SarahStewart_9.',\n",
       "   'highlighs': ['ANZ bank'],\n",
       "   'link': 'https://mobile.twitter.com/9NewsSyd/status/1641538580756537351',\n",
       "   'displayed_link': 'https://mobile.twitter.com › status'},\n",
       "  {'position': 6,\n",
       "   'title': 'BankTrack',\n",
       "   'tags': 'Nov 3, 2021 —',\n",
       "   'snippet': \"Nov 3, 2021 — Australia's ANZ Bank today launched a Grievance Mechanism Framework to evaluate and respond to human rights related complaints associated\\xa0...\",\n",
       "   'highlighs': ['ANZ Bank'],\n",
       "   'link': 'https://twitter.com/BankTrack/status/1455818431631081472',\n",
       "   'displayed_link': 'https://twitter.com › BankTrack › status'},\n",
       "  {'position': 7,\n",
       "   'title': 'Jeff Clark on X: \"ANZ Bank',\n",
       "   'tags': 'Aug 14, 2023 —',\n",
       "   'snippet': 'Aug 14, 2023 — ANZ Bank: \"Silver: a disconnect between price and fundamentals. Some supply bottlenecks, plus mine supply is at risk due to floods in South\\xa0...',\n",
       "   'highlighs': ['ANZ Bank'],\n",
       "   'link': 'https://twitter.com/TheGoldAdvisor/status/1691110947119824896',\n",
       "   'displayed_link': 'https://twitter.com › TheGoldAdvisor › status'},\n",
       "  {'position': 8,\n",
       "   'title': 'Anz Bank Loan Offer (@anz_loan) / Twitter',\n",
       "   'snippet': \"Anz Bank Loan Offer. @anz_loan. Joined August 2016. 32 Following · 6 Followers · Tweets · Replies · Media · Likes. Anz Bank Loan Offer's Tweets.\",\n",
       "   'highlighs': ['Anz Bank', 'Anz Bank'],\n",
       "   'link': 'https://twitter.com/anz_loan',\n",
       "   'displayed_link': 'https://twitter.com › anz_loan'},\n",
       "  {'position': 9,\n",
       "   'title': \"ANZ bank apologises after customers' personal information ...\",\n",
       "   'tags': 'Mar 1, 2023 —',\n",
       "   'snippet': \"Mar 1, 2023 — ANZ bank apologises after customers' personal information found in Perth skip bin. People walk past ANZ atms.\",\n",
       "   'highlighs': ['ANZ bank'],\n",
       "   'link': 'https://twitter.com/abcnews/status/1630868549659967488',\n",
       "   'displayed_link': 'https://twitter.com › abcnews › status'},\n",
       "  {'position': 10,\n",
       "   'title': 'Financial Review',\n",
       "   'tags': 'Feb 1, 2023 —',\n",
       "   'snippet': \"Feb 1, 2023 — ANZ Banking Group is bankrolling former Domain boss Antony Catalano's new real estate digital media play. afr.com. ANZ Bank follows Catalano\\xa0...\",\n",
       "   'highlighs': ['ANZ Bank'],\n",
       "   'link': 'https://twitter.com/FinancialReview/status/1620709329983733767',\n",
       "   'displayed_link': 'https://twitter.com › FinancialReview › status'},\n",
       "  {'position': 11,\n",
       "   'title': 'Carolyn Thomson',\n",
       "   'tags': 'Aug 4, 2022 —',\n",
       "   'snippet': 'Aug 4, 2022 — ANZ Bank gets $1.75b tier 2 debt; rush for fixed-rate slice. Australia and New Zealand Banking Group ended up taking in $1.75 billion from\\xa0...',\n",
       "   'highlighs': ['ANZ Bank'],\n",
       "   'link': 'https://mobile.twitter.com/Carolyn41600597/status/1554986225966018560',\n",
       "   'displayed_link': 'https://mobile.twitter.com › Carolyn41600597 › status'},\n",
       "  {'position': 12,\n",
       "   'title': 'NZ Adviser',\n",
       "   'tags': 'Aug 15, 2022 —',\n",
       "   'snippet': 'Aug 15, 2022 — ANZ Bank in Aotearoa has cautioned customers to stay vigilant against new phishing scams asking them to click links or make payments via\\xa0...',\n",
       "   'highlighs': ['ANZ Bank'],\n",
       "   'link': 'https://twitter.com/nz_adviser/status/1558983055838220288',\n",
       "   'displayed_link': 'https://twitter.com › nz_adviser › status'},\n",
       "  {'position': 13,\n",
       "   'title': 'zkPass',\n",
       "   'tags': 'Aug 3, 2023 —',\n",
       "   'snippet': 'Aug 3, 2023 — Generate an ANZ Bank Balance #zkSBT without uploading any files or disclosing privacy details.',\n",
       "   'highlighs': ['ANZ Bank'],\n",
       "   'link': 'https://twitter.com/zkPass/status/1687044064368263168',\n",
       "   'displayed_link': 'https://twitter.com › zkPass › status'},\n",
       "  {'position': 14,\n",
       "   'title': 'FinTech Futures',\n",
       "   'tags': 'Aug 15, 2022 —',\n",
       "   'snippet': 'Aug 15, 2022 — ANZ New Zealand selects FIS for core banking upgrade ANZ Bank New Zealand has selected FIS as it looks to upgrade its core #banking\\xa0...',\n",
       "   'highlighs': ['ANZ Bank'],\n",
       "   'link': 'https://twitter.com/fintech_futures/status/1559105581990002688',\n",
       "   'displayed_link': 'https://twitter.com › fintech_futures › status'},\n",
       "  {'position': 15,\n",
       "   'title': '7NEWS',\n",
       "   'tags': 'Oct 29, 2020 —',\n",
       "   'snippet': \"Oct 29, 2020 — The Federal Government is accusing the ANZ Bank of 'disgraceful behaviour' after setting climate change deadlines as part of its lending\\xa0...\",\n",
       "   'highlighs': ['ANZ Bank'],\n",
       "   'link': 'https://twitter.com/7NewsMelbourne/status/1321718965735878656',\n",
       "   'displayed_link': 'https://twitter.com › status'},\n",
       "  {'position': 16,\n",
       "   'title': 'Dynatrace',\n",
       "   'tags': 'Jul 15, 2020 —',\n",
       "   'snippet': \"Jul 15, 2020 — ANZ Bank was the recipient of our Digital Business Excellence award at #Perform2020. After attending our webinar with ANZ's Marek\\xa0...\",\n",
       "   'highlighs': ['ANZ Bank'],\n",
       "   'link': 'https://twitter.com/dynatrace/status/1283509554345652227',\n",
       "   'displayed_link': 'https://twitter.com › dynatrace › status'},\n",
       "  {'position': 17,\n",
       "   'title': 'ANZ banking fail leaves customers unable to withdraw ...',\n",
       "   'tags': 'Mar 22, 2018 —',\n",
       "   'snippet': 'Mar 22, 2018 — ANZ Bank remedies a \"technical fault\" that prevented customers from withdrawing more than $200 from its ATMs and online platforms.',\n",
       "   'highlighs': ['ANZ Bank'],\n",
       "   'link': 'https://twitter.com/abcnews/status/976674595326509056',\n",
       "   'displayed_link': 'https://twitter.com › abcnews › status'},\n",
       "  {'position': 18,\n",
       "   'title': 'Red Hat',\n",
       "   'tags': 'Jul 1, 2019 —',\n",
       "   'snippet': 'Jul 1, 2019 — See how ANZ Bank turned to #RedHat · @OpenShift. 4 to deliver a quick and seamless customer experience without sacrificing #ITsecurity:\\xa0...',\n",
       "   'highlighs': ['ANZ Bank'],\n",
       "   'link': 'https://twitter.com/RedHat/status/1145746280146243586',\n",
       "   'displayed_link': 'https://twitter.com › RedHat › status'},\n",
       "  {'position': 19,\n",
       "   'title': 'HCLTech',\n",
       "   'tags': 'Jul 30, 2018 —',\n",
       "   'snippet': 'Jul 30, 2018 — Some glimpses from a great evening with ANZ Bank in #Wellington, New Zealand, where we celebrated the success and outstanding support from\\xa0...',\n",
       "   'highlighs': ['ANZ Bank'],\n",
       "   'link': 'https://twitter.com/hcltech/status/1023810507634094080',\n",
       "   'displayed_link': 'https://twitter.com › hcltech › status'},\n",
       "  {'position': 20,\n",
       "   'title': \"ANZ Bank's hybrid cloud strategy spares almost no vendor\",\n",
       "   'tags': 'May 24, 2017 —',\n",
       "   'snippet': \"May 24, 2017 — ANZ Bank's hybrid cloud strategy spares almost no vendor http://zd.net/2qeYFrf. Image. 7:05 AM · May 24, 2017.\",\n",
       "   'highlighs': [\"ANZ Bank's\"],\n",
       "   'link': 'https://twitter.com/ZDNet/status/867275240640045056/photo/1',\n",
       "   'displayed_link': 'https://twitter.com › ZDNet › status › photo'},\n",
       "  {'position': 21,\n",
       "   'title': \"ANZ Bank's Colin Turner wins Finance Benchmarks gong\",\n",
       "   'tags': 'Feb 17, 2016 —',\n",
       "   'snippet': \"Feb 17, 2016 — ANZ Bank's Colin Turner wins Finance Benchmarks gong: Common decision platform earns nod.\",\n",
       "   'highlighs': [\"ANZ Bank's\"],\n",
       "   'link': 'https://twitter.com/iTnews_au/status/700058287346061312?lang=bg',\n",
       "   'displayed_link': 'https://twitter.com › iTnews_au › status'},\n",
       "  {'position': 22,\n",
       "   'title': 'Allen Holub @allenholub@mstdn.social',\n",
       "   'tags': 'Mar 27, 2021 —',\n",
       "   'snippet': 'Mar 27, 2021 — If you think that a change to \"Agile\" must be incremental, ANZ bank successfully adopted Agile on its third attempt, which was a big-bang\\xa0...',\n",
       "   'highlighs': ['ANZ bank'],\n",
       "   'link': 'https://twitter.com/allenholub/status/1375857729886162948',\n",
       "   'displayed_link': 'https://twitter.com › allenholub › status'},\n",
       "  {'position': 23,\n",
       "   'title': 'VMware Workspace ONE',\n",
       "   'tags': 'Oct 12, 2016 —',\n",
       "   'snippet': 'Oct 12, 2016 — Read how ANZ Bank takes mobile banking to new levels with AirWatch: http://bit.ly/2dW3zUU #BankTech · Embedded video. 0:15.',\n",
       "   'highlighs': ['ANZ Bank'],\n",
       "   'link': 'https://twitter.com/WorkspaceONE/status/786199699829104640',\n",
       "   'displayed_link': 'https://twitter.com › WorkspaceONE › status'},\n",
       "  {'position': 24,\n",
       "   'title': 'Gold Events',\n",
       "   'tags': 'Apr 3, 2023 —',\n",
       "   'snippet': 'Apr 3, 2023 — ANZ Bank is phasing out over-the-counter cash transactions in select branches, paving the way for a cashless society.',\n",
       "   'highlighs': ['ANZ Bank'],\n",
       "   'link': 'https://twitter.com/GoldEventsAU/status/1643021987848290305',\n",
       "   'displayed_link': 'https://twitter.com › GoldEventsAU › status'}],\n",
       " 'pagination': {'load_more_url': 'http://api.scraperapi.com/?url=https%3A%2F%2Fwww.google.com%2Fsearch%3Fq%3Dsite%3Atwitter.com%2B%2522anz%2Bbank%2522%26num%3D25%26sca_esv%3D562305725%26gl%3DUS%26ei%3Dc0D0ZLiRGa3BkPIPiq2ysAU%26start%3D25%26sa%3DN&autoparse=true',\n",
       "  'pages_count': 1}}"
      ]
     },
     "execution_count": 4,
     "metadata": {},
     "output_type": "execute_result"
    }
   ],
   "source": [
    "data"
   ]
  },
  {
   "cell_type": "code",
   "execution_count": 6,
   "metadata": {},
   "outputs": [
    {
     "data": {
      "text/plain": [
       "dict_keys(['search_information', 'organic_results', 'pagination'])"
      ]
     },
     "execution_count": 6,
     "metadata": {},
     "output_type": "execute_result"
    }
   ],
   "source": [
    "data.keys()"
   ]
  },
  {
   "cell_type": "code",
   "execution_count": 17,
   "metadata": {},
   "outputs": [
    {
     "data": {
      "text/plain": [
       "{'query_displayed': 'site:twitter.com \"anz bank\"',\n",
       " 'total_results': 1650,\n",
       " 'time_taken_displayed': 0.33}"
      ]
     },
     "execution_count": 17,
     "metadata": {},
     "output_type": "execute_result"
    }
   ],
   "source": [
    "data['search_information']"
   ]
  },
  {
   "cell_type": "code",
   "execution_count": 18,
   "metadata": {},
   "outputs": [
    {
     "data": {
      "text/plain": [
       "[{'position': 0,\n",
       "  'title': 'ANZ Bank Unhappy customers (@ANZUnhappy) / X',\n",
       "  'snippet': \"ANZ Bank Unhappy customers. @ANZUnhappy. WANT JUSTICE? Bank Victim or Victorious? Voice your concerns regarding ANZ's banking practices and hear from like\\xa0...\",\n",
       "  'highlighs': ['ANZ Bank'],\n",
       "  'link': 'https://twitter.com/anzunhappy',\n",
       "  'displayed_link': 'https://twitter.com › anzunhappy'},\n",
       " {'position': 1,\n",
       "  'title': 'Bloomberg',\n",
       "  'tags': 'Jul 12, 2023 —',\n",
       "  'snippet': \"Jul 12, 2023 — ANZ Bank's CEO said he's seen a “modest” increase in customers reaching out for help, just a sliver of a broader group of people and\\xa0...\",\n",
       "  'highlighs': [\"ANZ Bank's\"],\n",
       "  'link': 'https://mobile.twitter.com/business/status/1678947841065009153',\n",
       "  'displayed_link': 'https://mobile.twitter.com › business › status'},\n",
       " {'position': 2,\n",
       "  'title': 'ANZ Bank faces $15m + fine for using introducers to sell ...',\n",
       "  'tags': 'Feb 2, 2023 —',\n",
       "  'snippet': \"Feb 2, 2023 — ANZ Bank faces $15m + fine for using introducers to sell home loans ... The ANZ Bank's policy of promoting unlicensed 'introducers' to sell\\xa0...\",\n",
       "  'highlighs': ['ANZ Bank', \"ANZ Bank's\"],\n",
       "  'link': 'https://twitter.com/ANZ_NZ/status/1621115058100252675',\n",
       "  'displayed_link': 'https://twitter.com › ANZ_NZ › status'},\n",
       " {'position': 3,\n",
       "  'title': 'Bloomberg',\n",
       "  'tags': 'May 5, 2023 —',\n",
       "  'snippet': \"May 5, 2023 — ANZ Bank Sees Margin Pressure as Competition Intensifies. ANZ Group Holdings Ltd.'s first-half profit met analyst expectations as margin\\xa0...\",\n",
       "  'highlighs': ['ANZ Bank'],\n",
       "  'link': 'https://twitter.com/business/status/1654383445953347586',\n",
       "  'displayed_link': 'https://twitter.com › business › status'},\n",
       " {'position': 4,\n",
       "  'title': 'Jim Chalmers MP',\n",
       "  'tags': 'Aug 3, 2023 —',\n",
       "  'snippet': 'Aug 3, 2023 — has decided not to approve the ANZ bank takeover of Suncorp bank.',\n",
       "  'highlighs': ['ANZ bank'],\n",
       "  'link': 'https://twitter.com/JEChalmers/status/1687248845032542208',\n",
       "  'displayed_link': 'https://twitter.com › JEChalmers › status'},\n",
       " {'position': 5,\n",
       "  'title': 'ANZ employees will no longer handle cash banking',\n",
       "  'tags': 'Mar 30, 2023 —',\n",
       "  'snippet': 'Mar 30, 2023 — ANZ bank will stop employees from handling cash deposits from customers in a shake-up to the way branches operate. @SarahStewart_9.',\n",
       "  'highlighs': ['ANZ bank'],\n",
       "  'link': 'https://mobile.twitter.com/9NewsSyd/status/1641538580756537351',\n",
       "  'displayed_link': 'https://mobile.twitter.com › status'},\n",
       " {'position': 6,\n",
       "  'title': 'Financial Review',\n",
       "  'snippet': '#ANZ Bank eyes union #superannuation default deal. http://bit.ly/XIj06P · 8:30 AM · Dec 10, 2012 · 3. Retweets · 1. Like. Discover more.',\n",
       "  'highlighs': ['ANZ Bank'],\n",
       "  'link': 'https://mobile.twitter.com/financialreview/status/278053950354231296',\n",
       "  'displayed_link': 'https://mobile.twitter.com › financialreview › status'},\n",
       " {'position': 7,\n",
       "  'title': 'BankTrack',\n",
       "  'tags': 'Nov 3, 2021 —',\n",
       "  'snippet': \"Nov 3, 2021 — Australia's ANZ Bank today launched a Grievance Mechanism Framework to evaluate and respond to human rights related complaints associated\\xa0...\",\n",
       "  'highlighs': ['ANZ Bank'],\n",
       "  'link': 'https://twitter.com/BankTrack/status/1455818431631081472',\n",
       "  'displayed_link': 'https://twitter.com › BankTrack › status'},\n",
       " {'position': 8,\n",
       "  'title': \"ANZ bank apologises after customers' personal ... - Twitter\",\n",
       "  'tags': 'Mar 1, 2023 —',\n",
       "  'snippet': \"Mar 1, 2023 — ANZ bank apologises after customers' personal information found in Perth skip bin. People walk past ANZ atms.\",\n",
       "  'highlighs': ['ANZ bank'],\n",
       "  'link': 'https://twitter.com/abcnews/status/1630868549659967488',\n",
       "  'displayed_link': 'https://twitter.com › abcnews › status'}]"
      ]
     },
     "execution_count": 18,
     "metadata": {},
     "output_type": "execute_result"
    }
   ],
   "source": [
    "data['organic_results']"
   ]
  },
  {
   "cell_type": "code",
   "execution_count": 13,
   "metadata": {},
   "outputs": [
    {
     "data": {
      "text/plain": [
       "{'load_more_url': 'http://api.scraperapi.com/?url=https%3A%2F%2Fwww.google.com%2Fsearch%3Fq%3Dsite%3Atwitter.com%2B%2522anz%2Bbank%2522%26sca_esv%3D562305725%26gl%3DUS%26ei%3DSEH0ZIK_BaCJwbkPq-momA8%26start%3D10%26sa%3DN&autoparse=true',\n",
       " 'pages_count': 1}"
      ]
     },
     "execution_count": 13,
     "metadata": {},
     "output_type": "execute_result"
    }
   ],
   "source": [
    "data['pagination']"
   ]
  },
  {
   "cell_type": "code",
   "execution_count": 23,
   "metadata": {},
   "outputs": [
    {
     "data": {
      "text/plain": [
       "9"
      ]
     },
     "execution_count": 23,
     "metadata": {},
     "output_type": "execute_result"
    }
   ],
   "source": [
    "org_c = len(data['organic_results'])\n",
    "org_c"
   ]
  },
  {
   "cell_type": "code",
   "execution_count": 19,
   "metadata": {},
   "outputs": [],
   "source": [
    "all_tweets = data['organic_results']\n",
    "for tweet in all_tweets:\n",
    "    twitter_data.append(tweet)"
   ]
  },
  {
   "cell_type": "code",
   "execution_count": 21,
   "metadata": {},
   "outputs": [
    {
     "data": {
      "text/plain": [
       "18"
      ]
     },
     "execution_count": 21,
     "metadata": {},
     "output_type": "execute_result"
    }
   ],
   "source": [
    "counts = len(twitter_data)\n",
    "counts"
   ]
  },
  {
   "cell_type": "code",
   "execution_count": 22,
   "metadata": {},
   "outputs": [],
   "source": [
    "df = pd.DataFrame(twitter_data)\n",
    "df.to_excel(\"./data/scraper_snippet.xlsx\")"
   ]
  }
 ],
 "metadata": {
  "kernelspec": {
   "display_name": "Python 3",
   "language": "python",
   "name": "python3"
  },
  "language_info": {
   "codemirror_mode": {
    "name": "ipython",
    "version": 3
   },
   "file_extension": ".py",
   "mimetype": "text/x-python",
   "name": "python",
   "nbconvert_exporter": "python",
   "pygments_lexer": "ipython3",
   "version": "3.11.2"
  },
  "orig_nbformat": 4
 },
 "nbformat": 4,
 "nbformat_minor": 2
}
